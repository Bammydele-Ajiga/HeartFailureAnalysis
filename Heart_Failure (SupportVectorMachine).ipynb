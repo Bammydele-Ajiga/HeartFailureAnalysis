{
 "cells": [
  {
   "cell_type": "code",
   "execution_count": 1,
   "id": "59692bcf",
   "metadata": {},
   "outputs": [],
   "source": [
    "#importing the dataset\n",
    "import pandas as pd\n",
    "\n",
    "import numpy as np\n",
    "\n",
    "\n",
    "dataset = pd.read_csv(\"heart.csv\")"
   ]
  },
  {
   "cell_type": "code",
   "execution_count": 2,
   "id": "06b22b7a",
   "metadata": {},
   "outputs": [
    {
     "data": {
      "text/html": [
       "<div>\n",
       "<style scoped>\n",
       "    .dataframe tbody tr th:only-of-type {\n",
       "        vertical-align: middle;\n",
       "    }\n",
       "\n",
       "    .dataframe tbody tr th {\n",
       "        vertical-align: top;\n",
       "    }\n",
       "\n",
       "    .dataframe thead th {\n",
       "        text-align: right;\n",
       "    }\n",
       "</style>\n",
       "<table border=\"1\" class=\"dataframe\">\n",
       "  <thead>\n",
       "    <tr style=\"text-align: right;\">\n",
       "      <th></th>\n",
       "      <th>Age</th>\n",
       "      <th>Sex</th>\n",
       "      <th>ChestPainType</th>\n",
       "      <th>RestingBP</th>\n",
       "      <th>Cholesterol</th>\n",
       "      <th>FastingBS</th>\n",
       "      <th>RestingECG</th>\n",
       "      <th>MaxHR</th>\n",
       "      <th>ExerciseAngina</th>\n",
       "      <th>Oldpeak</th>\n",
       "      <th>ST_Slope</th>\n",
       "      <th>HeartDisease</th>\n",
       "    </tr>\n",
       "  </thead>\n",
       "  <tbody>\n",
       "    <tr>\n",
       "      <th>0</th>\n",
       "      <td>40</td>\n",
       "      <td>M</td>\n",
       "      <td>ATA</td>\n",
       "      <td>140</td>\n",
       "      <td>289</td>\n",
       "      <td>0</td>\n",
       "      <td>Normal</td>\n",
       "      <td>172</td>\n",
       "      <td>N</td>\n",
       "      <td>0.0</td>\n",
       "      <td>Up</td>\n",
       "      <td>0</td>\n",
       "    </tr>\n",
       "    <tr>\n",
       "      <th>1</th>\n",
       "      <td>49</td>\n",
       "      <td>F</td>\n",
       "      <td>NAP</td>\n",
       "      <td>160</td>\n",
       "      <td>180</td>\n",
       "      <td>0</td>\n",
       "      <td>Normal</td>\n",
       "      <td>156</td>\n",
       "      <td>N</td>\n",
       "      <td>1.0</td>\n",
       "      <td>Flat</td>\n",
       "      <td>1</td>\n",
       "    </tr>\n",
       "    <tr>\n",
       "      <th>2</th>\n",
       "      <td>37</td>\n",
       "      <td>M</td>\n",
       "      <td>ATA</td>\n",
       "      <td>130</td>\n",
       "      <td>283</td>\n",
       "      <td>0</td>\n",
       "      <td>ST</td>\n",
       "      <td>98</td>\n",
       "      <td>N</td>\n",
       "      <td>0.0</td>\n",
       "      <td>Up</td>\n",
       "      <td>0</td>\n",
       "    </tr>\n",
       "    <tr>\n",
       "      <th>3</th>\n",
       "      <td>48</td>\n",
       "      <td>F</td>\n",
       "      <td>ASY</td>\n",
       "      <td>138</td>\n",
       "      <td>214</td>\n",
       "      <td>0</td>\n",
       "      <td>Normal</td>\n",
       "      <td>108</td>\n",
       "      <td>Y</td>\n",
       "      <td>1.5</td>\n",
       "      <td>Flat</td>\n",
       "      <td>1</td>\n",
       "    </tr>\n",
       "    <tr>\n",
       "      <th>4</th>\n",
       "      <td>54</td>\n",
       "      <td>M</td>\n",
       "      <td>NAP</td>\n",
       "      <td>150</td>\n",
       "      <td>195</td>\n",
       "      <td>0</td>\n",
       "      <td>Normal</td>\n",
       "      <td>122</td>\n",
       "      <td>N</td>\n",
       "      <td>0.0</td>\n",
       "      <td>Up</td>\n",
       "      <td>0</td>\n",
       "    </tr>\n",
       "    <tr>\n",
       "      <th>5</th>\n",
       "      <td>39</td>\n",
       "      <td>M</td>\n",
       "      <td>NAP</td>\n",
       "      <td>120</td>\n",
       "      <td>339</td>\n",
       "      <td>0</td>\n",
       "      <td>Normal</td>\n",
       "      <td>170</td>\n",
       "      <td>N</td>\n",
       "      <td>0.0</td>\n",
       "      <td>Up</td>\n",
       "      <td>0</td>\n",
       "    </tr>\n",
       "    <tr>\n",
       "      <th>6</th>\n",
       "      <td>45</td>\n",
       "      <td>F</td>\n",
       "      <td>ATA</td>\n",
       "      <td>130</td>\n",
       "      <td>237</td>\n",
       "      <td>0</td>\n",
       "      <td>Normal</td>\n",
       "      <td>170</td>\n",
       "      <td>N</td>\n",
       "      <td>0.0</td>\n",
       "      <td>Up</td>\n",
       "      <td>0</td>\n",
       "    </tr>\n",
       "    <tr>\n",
       "      <th>7</th>\n",
       "      <td>54</td>\n",
       "      <td>M</td>\n",
       "      <td>ATA</td>\n",
       "      <td>110</td>\n",
       "      <td>208</td>\n",
       "      <td>0</td>\n",
       "      <td>Normal</td>\n",
       "      <td>142</td>\n",
       "      <td>N</td>\n",
       "      <td>0.0</td>\n",
       "      <td>Up</td>\n",
       "      <td>0</td>\n",
       "    </tr>\n",
       "    <tr>\n",
       "      <th>8</th>\n",
       "      <td>37</td>\n",
       "      <td>M</td>\n",
       "      <td>ASY</td>\n",
       "      <td>140</td>\n",
       "      <td>207</td>\n",
       "      <td>0</td>\n",
       "      <td>Normal</td>\n",
       "      <td>130</td>\n",
       "      <td>Y</td>\n",
       "      <td>1.5</td>\n",
       "      <td>Flat</td>\n",
       "      <td>1</td>\n",
       "    </tr>\n",
       "    <tr>\n",
       "      <th>9</th>\n",
       "      <td>48</td>\n",
       "      <td>F</td>\n",
       "      <td>ATA</td>\n",
       "      <td>120</td>\n",
       "      <td>284</td>\n",
       "      <td>0</td>\n",
       "      <td>Normal</td>\n",
       "      <td>120</td>\n",
       "      <td>N</td>\n",
       "      <td>0.0</td>\n",
       "      <td>Up</td>\n",
       "      <td>0</td>\n",
       "    </tr>\n",
       "  </tbody>\n",
       "</table>\n",
       "</div>"
      ],
      "text/plain": [
       "   Age Sex ChestPainType  RestingBP  Cholesterol  FastingBS RestingECG  MaxHR  \\\n",
       "0   40   M           ATA        140          289          0     Normal    172   \n",
       "1   49   F           NAP        160          180          0     Normal    156   \n",
       "2   37   M           ATA        130          283          0         ST     98   \n",
       "3   48   F           ASY        138          214          0     Normal    108   \n",
       "4   54   M           NAP        150          195          0     Normal    122   \n",
       "5   39   M           NAP        120          339          0     Normal    170   \n",
       "6   45   F           ATA        130          237          0     Normal    170   \n",
       "7   54   M           ATA        110          208          0     Normal    142   \n",
       "8   37   M           ASY        140          207          0     Normal    130   \n",
       "9   48   F           ATA        120          284          0     Normal    120   \n",
       "\n",
       "  ExerciseAngina  Oldpeak ST_Slope  HeartDisease  \n",
       "0              N      0.0       Up             0  \n",
       "1              N      1.0     Flat             1  \n",
       "2              N      0.0       Up             0  \n",
       "3              Y      1.5     Flat             1  \n",
       "4              N      0.0       Up             0  \n",
       "5              N      0.0       Up             0  \n",
       "6              N      0.0       Up             0  \n",
       "7              N      0.0       Up             0  \n",
       "8              Y      1.5     Flat             1  \n",
       "9              N      0.0       Up             0  "
      ]
     },
     "execution_count": 2,
     "metadata": {},
     "output_type": "execute_result"
    }
   ],
   "source": [
    "dataset.head(10)\n",
    "\n",
    "dataset.head(10)"
   ]
  },
  {
   "cell_type": "code",
   "execution_count": 3,
   "id": "11c84394",
   "metadata": {},
   "outputs": [
    {
     "name": "stdout",
     "output_type": "stream",
     "text": [
      "[[40 'ATA' 140 289 0 'Normal' 172 'N' 0.0 'Up']\n",
      " [49 'NAP' 160 180 0 'Normal' 156 'N' 1.0 'Flat']\n",
      " [37 'ATA' 130 283 0 'ST' 98 'N' 0.0 'Up']\n",
      " [48 'ASY' 138 214 0 'Normal' 108 'Y' 1.5 'Flat']\n",
      " [54 'NAP' 150 195 0 'Normal' 122 'N' 0.0 'Up']\n",
      " [39 'NAP' 120 339 0 'Normal' 170 'N' 0.0 'Up']]\n",
      "0    0\n",
      "1    1\n",
      "2    0\n",
      "3    1\n",
      "4    0\n",
      "Name: HeartDisease, dtype: int64\n"
     ]
    }
   ],
   "source": [
    "del dataset[\"Sex\"]\n",
    "\n",
    "x = dataset.iloc[:,0:-1].values\n",
    "\n",
    "y = dataset.iloc[:,-1]\n",
    "\n",
    "print(x[:6])\n",
    "print(y[:5])"
   ]
  },
  {
   "cell_type": "code",
   "execution_count": 4,
   "id": "d1ba2026",
   "metadata": {},
   "outputs": [
    {
     "name": "stdout",
     "output_type": "stream",
     "text": [
      "[[40 'ATA' 140 289 0 'Normal' 172 0 0.0 'Up']\n",
      " [49 'NAP' 160 180 0 'Normal' 156 0 1.0 'Flat']\n",
      " [37 'ATA' 130 283 0 'ST' 98 0 0.0 'Up']\n",
      " [48 'ASY' 138 214 0 'Normal' 108 1 1.5 'Flat']\n",
      " [54 'NAP' 150 195 0 'Normal' 122 0 0.0 'Up']\n",
      " [39 'NAP' 120 339 0 'Normal' 170 0 0.0 'Up']]\n",
      "0    0\n",
      "1    1\n",
      "2    0\n",
      "3    1\n",
      "4    0\n",
      "Name: HeartDisease, dtype: int64\n"
     ]
    }
   ],
   "source": [
    "#Encoding categorical data\n",
    "# pd.set_option(\"display.max_rows\",15)\n",
    "# print(dataset.iloc[:,6])\n",
    "\n",
    "from sklearn.preprocessing import LabelEncoder\n",
    "label_encoder = LabelEncoder()\n",
    "\n",
    "# dataset.iloc[:,1] =label_encoder.fit_transform(dataset.iloc[:,1])\n",
    "x[:,7] = label_encoder.fit_transform(x[:,7])\n",
    "print(x[:6])\n",
    "print(y[:5])\n",
    "# x[5]"
   ]
  },
  {
   "cell_type": "code",
   "execution_count": 5,
   "id": "86601ad5",
   "metadata": {},
   "outputs": [],
   "source": [
    "# dataset[\"ExerciseAngina\"]=label_encoder.fit_transform(dataset[\"ExerciseAngina\"])\n",
    "# dataset"
   ]
  },
  {
   "cell_type": "code",
   "execution_count": 6,
   "id": "40ca58aa",
   "metadata": {},
   "outputs": [
    {
     "name": "stdout",
     "output_type": "stream",
     "text": [
      "[[0.0 1.0 0.0 0.0 40 140 289 0 'Normal' 172 0 0.0 'Up']\n",
      " [0.0 0.0 1.0 0.0 49 160 180 0 'Normal' 156 0 1.0 'Flat']\n",
      " [0.0 1.0 0.0 0.0 37 130 283 0 'ST' 98 0 0.0 'Up']\n",
      " [1.0 0.0 0.0 0.0 48 138 214 0 'Normal' 108 1 1.5 'Flat']\n",
      " [0.0 0.0 1.0 0.0 54 150 195 0 'Normal' 122 0 0.0 'Up']\n",
      " [0.0 0.0 1.0 0.0 39 120 339 0 'Normal' 170 0 0.0 'Up']]\n",
      "0    0\n",
      "1    1\n",
      "2    0\n",
      "3    1\n",
      "4    0\n",
      "Name: HeartDisease, dtype: int64\n"
     ]
    }
   ],
   "source": [
    "#OneHotEncodeing Encoding\n",
    "#pd.set_option(\"display.max_rows\",None)\n",
    "import numpy as np\n",
    "from sklearn.compose import ColumnTransformer\n",
    "from sklearn.preprocessing import OneHotEncoder\n",
    "ct  =  ColumnTransformer(transformers = [(\"encoder\", OneHotEncoder(), [1])],remainder = \"passthrough\" )\n",
    "# ct1 = ColumnTransformer(transformers = [(\"encoder\", OneHotEncoder(), [9])],remainder = \"passthrough\" )\n",
    "# ct2 = ColumnTransformer(transformers = [(\"encoder\", OneHotEncoder(), [11])],remainder = \"passthrough\" )\n",
    "# ct3 = ColumnTransformer(transformers = [(\"encoder\", OneHotEncoder(), [16])],remainder = \"passthrough\" )\n",
    "#ct = ColumnTransformer(transformers=[('encoder', OneHotEncoder(), [0])], remainder='passthrough')\n",
    "x =ct.fit_transform(x)\n",
    "# dataset = ct1.fit_transform(dataset)\n",
    "# dataset = ct2.fit_transform(dataset)\n",
    "# dataset = ct3.fit_transform(dataset)\n",
    "\n",
    "print(x[:6])\n",
    "print(y[:5])\n",
    "# x = np.array(x)"
   ]
  },
  {
   "cell_type": "code",
   "execution_count": 7,
   "id": "fe90c8c9",
   "metadata": {},
   "outputs": [
    {
     "name": "stdout",
     "output_type": "stream",
     "text": [
      "[[0.0 0.0 1.0 0.0 1.0 0.0 0.0 40 140 289 0 'Normal' 172 0 0.0]\n",
      " [0.0 1.0 0.0 0.0 0.0 1.0 0.0 49 160 180 0 'Normal' 156 0 1.0]\n",
      " [0.0 0.0 1.0 0.0 1.0 0.0 0.0 37 130 283 0 'ST' 98 0 0.0]\n",
      " [0.0 1.0 0.0 1.0 0.0 0.0 0.0 48 138 214 0 'Normal' 108 1 1.5]\n",
      " [0.0 0.0 1.0 0.0 0.0 1.0 0.0 54 150 195 0 'Normal' 122 0 0.0]\n",
      " [0.0 0.0 1.0 0.0 0.0 1.0 0.0 39 120 339 0 'Normal' 170 0 0.0]]\n",
      "0    0\n",
      "1    1\n",
      "2    0\n",
      "3    1\n",
      "4    0\n",
      "Name: HeartDisease, dtype: int64\n"
     ]
    }
   ],
   "source": [
    "\n",
    "ct1 = ColumnTransformer(transformers = [(\"encoder\", OneHotEncoder(), [12])],remainder = \"passthrough\" )\n",
    "x = ct1.fit_transform(x)\n",
    "print(x[:6])\n",
    "print(y[:5])\n"
   ]
  },
  {
   "cell_type": "code",
   "execution_count": 8,
   "id": "4968f8f6",
   "metadata": {},
   "outputs": [
    {
     "data": {
      "text/plain": [
       "array([[0.0, 0.0, 1.0, 0.0, 1.0, 0.0, 0.0, 40, 140, 289, 0, 'Normal',\n",
       "        172, 0, 0.0],\n",
       "       [0.0, 1.0, 0.0, 0.0, 0.0, 1.0, 0.0, 49, 160, 180, 0, 'Normal',\n",
       "        156, 0, 1.0],\n",
       "       [0.0, 0.0, 1.0, 0.0, 1.0, 0.0, 0.0, 37, 130, 283, 0, 'ST', 98, 0,\n",
       "        0.0],\n",
       "       [0.0, 1.0, 0.0, 1.0, 0.0, 0.0, 0.0, 48, 138, 214, 0, 'Normal',\n",
       "        108, 1, 1.5],\n",
       "       [0.0, 0.0, 1.0, 0.0, 0.0, 1.0, 0.0, 54, 150, 195, 0, 'Normal',\n",
       "        122, 0, 0.0]], dtype=object)"
      ]
     },
     "execution_count": 8,
     "metadata": {},
     "output_type": "execute_result"
    }
   ],
   "source": [
    "x = np.array(x)\n",
    "x[:5]\n"
   ]
  },
  {
   "cell_type": "code",
   "execution_count": 9,
   "id": "d1f61273",
   "metadata": {},
   "outputs": [
    {
     "name": "stdout",
     "output_type": "stream",
     "text": [
      "[[0.0 1.0 0.0 0.0 0.0 1.0 0.0 1.0 0.0 0.0 40 140 289 0 172 0 0.0]\n",
      " [0.0 1.0 0.0 0.0 1.0 0.0 0.0 0.0 1.0 0.0 49 160 180 0 156 0 1.0]\n",
      " [0.0 0.0 1.0 0.0 0.0 1.0 0.0 1.0 0.0 0.0 37 130 283 0 98 0 0.0]\n",
      " [0.0 1.0 0.0 0.0 1.0 0.0 1.0 0.0 0.0 0.0 48 138 214 0 108 1 1.5]\n",
      " [0.0 1.0 0.0 0.0 0.0 1.0 0.0 0.0 1.0 0.0 54 150 195 0 122 0 0.0]\n",
      " [0.0 1.0 0.0 0.0 0.0 1.0 0.0 0.0 1.0 0.0 39 120 339 0 170 0 0.0]]\n",
      "0    0\n",
      "1    1\n",
      "2    0\n",
      "3    1\n",
      "4    0\n",
      "Name: HeartDisease, dtype: int64\n"
     ]
    }
   ],
   "source": [
    "# #Declare independent and dependent variable\n",
    "# pd.set_option(\"display.max_rows\",None)\n",
    "# pd.set_option(\"display.max_columns\",None)\n",
    "# dataset = pd.DataFrame(dataset)\n",
    "ct2 = ColumnTransformer(transformers = [(\"encoder\", OneHotEncoder(), [11])],remainder = \"passthrough\" )\n",
    "x = ct2.fit_transform(x)\n",
    "# x = np.array(x)\n",
    "# x[:5]\n",
    "print(x[:6])\n",
    "print(y[:5])"
   ]
  },
  {
   "cell_type": "code",
   "execution_count": 10,
   "id": "c01d43de",
   "metadata": {},
   "outputs": [
    {
     "ename": "NameError",
     "evalue": "name 'classifier' is not defined",
     "output_type": "error",
     "traceback": [
      "\u001b[0;31m---------------------------------------------------------------------------\u001b[0m",
      "\u001b[0;31mNameError\u001b[0m                                 Traceback (most recent call last)",
      "\u001b[0;32m/tmp/ipykernel_21319/2068426143.py\u001b[0m in \u001b[0;36m<module>\u001b[0;34m\u001b[0m\n\u001b[1;32m     12\u001b[0m \u001b[0mx_test\u001b[0m  \u001b[0;34m=\u001b[0m\u001b[0msc\u001b[0m\u001b[0;34m.\u001b[0m\u001b[0mfit_transform\u001b[0m\u001b[0;34m(\u001b[0m\u001b[0mx_test\u001b[0m\u001b[0;34m)\u001b[0m\u001b[0;34m\u001b[0m\u001b[0;34m\u001b[0m\u001b[0m\n\u001b[1;32m     13\u001b[0m \u001b[0mx_test\u001b[0m \u001b[0;34m=\u001b[0m \u001b[0mnp\u001b[0m\u001b[0;34m.\u001b[0m\u001b[0marray\u001b[0m\u001b[0;34m(\u001b[0m\u001b[0mx_test\u001b[0m\u001b[0;34m)\u001b[0m\u001b[0;34m\u001b[0m\u001b[0;34m\u001b[0m\u001b[0m\n\u001b[0;32m---> 14\u001b[0;31m \u001b[0my_pred\u001b[0m  \u001b[0;34m=\u001b[0m \u001b[0mclassifier\u001b[0m\u001b[0;34m.\u001b[0m\u001b[0mpredict\u001b[0m\u001b[0;34m(\u001b[0m\u001b[0mx_test\u001b[0m\u001b[0;34m)\u001b[0m\u001b[0;34m\u001b[0m\u001b[0;34m\u001b[0m\u001b[0m\n\u001b[0m",
      "\u001b[0;31mNameError\u001b[0m: name 'classifier' is not defined"
     ]
    }
   ],
   "source": [
    "#Splitting Data Set\n",
    "from sklearn.preprocessing import StandardScaler\n",
    "from sklearn.model_selection import train_test_split\n",
    "from sklearn.metrics import confusion_matrix, accuracy_score\n",
    "# for i in range (10,30, 1):\n",
    "#     size = i/100\n",
    "\n",
    "x_train,x_test,y_train,y_test = train_test_split(x,y,test_size = 0.25, random_state =0)\n",
    "sc = StandardScaler()\n",
    "x_train =sc.fit_transform(x_train)\n",
    "x_train = np.array(x_train)\n",
    "x_test  =sc.fit_transform(x_test)\n",
    "x_test = np.array(x_test)\n",
    "y_pred  = classifier.predict(x_test)\n"
   ]
  },
  {
   "cell_type": "code",
   "execution_count": 14,
   "id": "3fcdd53e",
   "metadata": {},
   "outputs": [
    {
     "name": "stdout",
     "output_type": "stream",
     "text": [
      "0.8130434782608695\n"
     ]
    }
   ],
   "source": [
    "#Standard SCaling\n",
    "from sklearn.svm import SVC\n",
    "classifier = SVC (kernel = \"linear\", random_state = 0)\n",
    "classifier.fit(x_train, y_train)\n",
    "y_pred  = classifier.predict(x_test)\n",
    "from sklearn.metrics import confusion_matrix\n",
    "cm = confusion_matrix(y_test, y_pred)\n",
    "print(accuracy_score(y_test, y_pred))\n",
    "\n"
   ]
  },
  {
   "cell_type": "code",
   "execution_count": 16,
   "id": "f13abc2d",
   "metadata": {},
   "outputs": [
    {
     "name": "stdout",
     "output_type": "stream",
     "text": [
      "[[ 70  22]\n",
      " [ 16 122]]\n",
      "0.8347826086956521\n"
     ]
    }
   ],
   "source": [
    "from sklearn.svm import SVC\n",
    "classifier = SVC (kernel = \"rbf\", random_state = 0)\n",
    "classifier.fit(x_train, y_train)\n",
    "y_pred  = classifier.predict(x_test)\n",
    "from sklearn.metrics import confusion_matrix\n",
    "cm = confusion_matrix(y_test, y_pred)\n",
    "print(cm)\n",
    "print(accuracy_score(y_test, y_pred))\n",
    "\n"
   ]
  },
  {
   "cell_type": "code",
   "execution_count": 172,
   "id": "b4c3fcfa",
   "metadata": {},
   "outputs": [
    {
     "name": "stdout",
     "output_type": "stream",
     "text": [
      "0 0.782608695652174\n",
      "1 0.782608695652174\n",
      "2 0.7789855072463768\n",
      "3 0.782608695652174\n",
      "4 0.782608695652174\n",
      "5 0.782608695652174\n",
      "6 0.782608695652174\n",
      "7 0.7789855072463768\n",
      "8 0.782608695652174\n",
      "9 0.7789855072463768\n",
      "10 0.782608695652174\n",
      "11 0.782608695652174\n",
      "12 0.782608695652174\n",
      "13 0.7789855072463768\n",
      "14 0.782608695652174\n",
      "15 0.7789855072463768\n",
      "16 0.782608695652174\n",
      "17 0.782608695652174\n",
      "18 0.7789855072463768\n",
      "19 0.7789855072463768\n",
      "20 0.7789855072463768\n",
      "21 0.782608695652174\n",
      "22 0.782608695652174\n",
      "23 0.7789855072463768\n",
      "24 0.7789855072463768\n",
      "25 0.782608695652174\n",
      "26 0.7789855072463768\n",
      "27 0.7789855072463768\n",
      "28 0.782608695652174\n",
      "29 0.782608695652174\n",
      "30 0.7789855072463768\n",
      "31 0.7789855072463768\n",
      "32 0.782608695652174\n",
      "33 0.7789855072463768\n",
      "34 0.782608695652174\n",
      "35 0.782608695652174\n",
      "36 0.782608695652174\n",
      "37 0.782608695652174\n",
      "38 0.7789855072463768\n",
      "39 0.782608695652174\n",
      "40 0.7789855072463768\n",
      "41 0.782608695652174\n",
      "42 0.7789855072463768\n",
      "43 0.782608695652174\n",
      "44 0.782608695652174\n",
      "45 0.782608695652174\n",
      "46 0.782608695652174\n",
      "47 0.782608695652174\n",
      "48 0.782608695652174\n",
      "49 0.7789855072463768\n",
      "50 0.7789855072463768\n",
      "51 0.7789855072463768\n",
      "52 0.782608695652174\n",
      "53 0.782608695652174\n",
      "54 0.7789855072463768\n",
      "55 0.782608695652174\n",
      "56 0.782608695652174\n",
      "57 0.782608695652174\n",
      "58 0.7789855072463768\n",
      "59 0.782608695652174\n",
      "60 0.7789855072463768\n",
      "61 0.782608695652174\n",
      "62 0.782608695652174\n",
      "63 0.7789855072463768\n",
      "64 0.7789855072463768\n",
      "65 0.7789855072463768\n",
      "66 0.782608695652174\n",
      "67 0.782608695652174\n",
      "68 0.7789855072463768\n",
      "69 0.782608695652174\n",
      "70 0.7789855072463768\n",
      "71 0.7789855072463768\n",
      "72 0.7789855072463768\n",
      "73 0.782608695652174\n",
      "74 0.7789855072463768\n",
      "75 0.7789855072463768\n",
      "76 0.782608695652174\n",
      "77 0.7789855072463768\n",
      "78 0.7789855072463768\n",
      "79 0.782608695652174\n",
      "80 0.782608695652174\n",
      "81 0.7789855072463768\n",
      "82 0.782608695652174\n",
      "83 0.782608695652174\n",
      "84 0.7789855072463768\n",
      "85 0.782608695652174\n",
      "86 0.782608695652174\n",
      "87 0.782608695652174\n",
      "88 0.782608695652174\n",
      "89 0.7789855072463768\n",
      "90 0.7789855072463768\n",
      "91 0.7789855072463768\n",
      "92 0.7789855072463768\n",
      "93 0.782608695652174\n",
      "94 0.782608695652174\n",
      "95 0.782608695652174\n",
      "96 0.782608695652174\n",
      "97 0.7789855072463768\n",
      "98 0.782608695652174\n",
      "99 0.7789855072463768\n"
     ]
    }
   ],
   "source": [
    "\n",
    "\n"
   ]
  },
  {
   "cell_type": "code",
   "execution_count": 170,
   "id": "11954b67",
   "metadata": {},
   "outputs": [
    {
     "name": "stdout",
     "output_type": "stream",
     "text": [
      "[[ 76  42]\n",
      " [ 19 139]]\n",
      "0.7789855072463768\n"
     ]
    }
   ],
   "source": []
  },
  {
   "cell_type": "code",
   "execution_count": null,
   "id": "6847cf7d",
   "metadata": {},
   "outputs": [],
   "source": []
  },
  {
   "cell_type": "code",
   "execution_count": null,
   "id": "34bb56e7",
   "metadata": {},
   "outputs": [],
   "source": []
  },
  {
   "cell_type": "code",
   "execution_count": null,
   "id": "b330a5d2",
   "metadata": {},
   "outputs": [],
   "source": []
  },
  {
   "cell_type": "code",
   "execution_count": null,
   "id": "fb9fa806",
   "metadata": {},
   "outputs": [],
   "source": []
  }
 ],
 "metadata": {
  "kernelspec": {
   "display_name": "Python 3 (ipykernel)",
   "language": "python",
   "name": "python3"
  },
  "language_info": {
   "codemirror_mode": {
    "name": "ipython",
    "version": 3
   },
   "file_extension": ".py",
   "mimetype": "text/x-python",
   "name": "python",
   "nbconvert_exporter": "python",
   "pygments_lexer": "ipython3",
   "version": "3.9.7"
  }
 },
 "nbformat": 4,
 "nbformat_minor": 5
}
